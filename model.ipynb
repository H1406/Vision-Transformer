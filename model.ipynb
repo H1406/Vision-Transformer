{
 "cells": [
  {
   "cell_type": "markdown",
   "id": "e08f134e",
   "metadata": {},
   "source": [
    "Install requirements"
   ]
  },
  {
   "cell_type": "code",
   "execution_count": 57,
   "id": "a8e34346",
   "metadata": {},
   "outputs": [
    {
     "name": "stdout",
     "output_type": "stream",
     "text": [
      "Collecting einops\n",
      "  Downloading einops-0.8.1-py3-none-any.whl.metadata (13 kB)\n",
      "Downloading einops-0.8.1-py3-none-any.whl (64 kB)\n",
      "Installing collected packages: einops\n",
      "Successfully installed einops-0.8.1\n"
     ]
    }
   ],
   "source": [
    "!pip install einops"
   ]
  },
  {
   "cell_type": "code",
   "execution_count": 2,
   "id": "1c03bfe3",
   "metadata": {},
   "outputs": [
    {
     "name": "stdout",
     "output_type": "stream",
     "text": [
      "Requirement already satisfied: torch>=2.0.0 in /Users/phanhieu/nmt-jupyter-project/.venv/lib/python3.10/site-packages (from -r requirements.txt (line 2)) (2.7.0)\n",
      "Collecting torchvision>=0.15.0 (from -r requirements.txt (line 3))\n",
      "  Downloading torchvision-0.22.1-cp310-cp310-macosx_11_0_arm64.whl.metadata (6.1 kB)\n",
      "Collecting torchaudio>=2.0.0 (from -r requirements.txt (line 4))\n",
      "  Downloading torchaudio-2.7.1-cp310-cp310-macosx_11_0_arm64.whl.metadata (6.6 kB)\n",
      "Requirement already satisfied: transformers>=4.35.0 in /Users/phanhieu/nmt-jupyter-project/.venv/lib/python3.10/site-packages (from -r requirements.txt (line 7)) (4.51.3)\n",
      "Collecting timm>=0.9.2 (from -r requirements.txt (line 8))\n",
      "  Downloading timm-1.0.16-py3-none-any.whl.metadata (57 kB)\n",
      "Collecting opencv-python (from -r requirements.txt (line 11))\n",
      "  Using cached opencv_python-4.11.0.86-cp37-abi3-macosx_13_0_arm64.whl.metadata (20 kB)\n",
      "Collecting scikit-image (from -r requirements.txt (line 12))\n",
      "  Downloading scikit_image-0.25.2-cp310-cp310-macosx_12_0_arm64.whl.metadata (14 kB)\n",
      "Requirement already satisfied: pillow in /Users/phanhieu/nmt-jupyter-project/.venv/lib/python3.10/site-packages (from -r requirements.txt (line 13)) (11.2.1)\n",
      "Requirement already satisfied: numpy in /Users/phanhieu/nmt-jupyter-project/.venv/lib/python3.10/site-packages (from -r requirements.txt (line 14)) (1.26.4)\n",
      "Requirement already satisfied: matplotlib in /Users/phanhieu/nmt-jupyter-project/.venv/lib/python3.10/site-packages (from -r requirements.txt (line 15)) (3.10.3)\n",
      "Collecting scikit-learn (from -r requirements.txt (line 18))\n",
      "  Downloading scikit_learn-1.7.0-cp310-cp310-macosx_12_0_arm64.whl.metadata (31 kB)\n",
      "Requirement already satisfied: pandas in /Users/phanhieu/nmt-jupyter-project/.venv/lib/python3.10/site-packages (from -r requirements.txt (line 19)) (2.2.3)\n",
      "Collecting grad-cam>=1.4.6 (from -r requirements.txt (line 22))\n",
      "  Downloading grad-cam-1.5.5.tar.gz (7.8 MB)\n",
      "\u001b[2K     \u001b[38;2;114;156;31m━━━━━━━━━━━━━━━━━━━━━━━━━━━━━━━━━━━━━━━━\u001b[0m \u001b[32m7.8/7.8 MB\u001b[0m \u001b[31m18.8 MB/s\u001b[0m eta \u001b[36m0:00:00\u001b[0m MB/s\u001b[0m eta \u001b[36m0:00:01\u001b[0m:01\u001b[0m\n",
      "\u001b[?25h  Installing build dependencies ... \u001b[?25ldone\n",
      "\u001b[?25h  Getting requirements to build wheel ... \u001b[?25ldone\n",
      "\u001b[?25h  Preparing metadata (pyproject.toml) ... \u001b[?25ldone\n",
      "\u001b[?25hRequirement already satisfied: jupyterlab in /Users/phanhieu/nmt-jupyter-project/.venv/lib/python3.10/site-packages (from -r requirements.txt (line 25)) (4.4.2)\n",
      "Requirement already satisfied: tensorboard in /Users/phanhieu/nmt-jupyter-project/.venv/lib/python3.10/site-packages (from -r requirements.txt (line 28)) (2.15.2)\n",
      "Requirement already satisfied: filelock in /Users/phanhieu/nmt-jupyter-project/.venv/lib/python3.10/site-packages (from torch>=2.0.0->-r requirements.txt (line 2)) (3.18.0)\n",
      "Requirement already satisfied: typing-extensions>=4.10.0 in /Users/phanhieu/nmt-jupyter-project/.venv/lib/python3.10/site-packages (from torch>=2.0.0->-r requirements.txt (line 2)) (4.13.2)\n",
      "Requirement already satisfied: sympy>=1.13.3 in /Users/phanhieu/nmt-jupyter-project/.venv/lib/python3.10/site-packages (from torch>=2.0.0->-r requirements.txt (line 2)) (1.14.0)\n",
      "Requirement already satisfied: networkx in /Users/phanhieu/nmt-jupyter-project/.venv/lib/python3.10/site-packages (from torch>=2.0.0->-r requirements.txt (line 2)) (3.4.2)\n",
      "Requirement already satisfied: jinja2 in /Users/phanhieu/nmt-jupyter-project/.venv/lib/python3.10/site-packages (from torch>=2.0.0->-r requirements.txt (line 2)) (3.1.6)\n",
      "Requirement already satisfied: fsspec in /Users/phanhieu/nmt-jupyter-project/.venv/lib/python3.10/site-packages (from torch>=2.0.0->-r requirements.txt (line 2)) (2025.3.0)\n",
      "Collecting torch>=2.0.0 (from -r requirements.txt (line 2))\n",
      "  Downloading torch-2.7.1-cp310-none-macosx_11_0_arm64.whl.metadata (29 kB)\n",
      "Requirement already satisfied: huggingface-hub<1.0,>=0.30.0 in /Users/phanhieu/nmt-jupyter-project/.venv/lib/python3.10/site-packages (from transformers>=4.35.0->-r requirements.txt (line 7)) (0.31.4)\n",
      "Requirement already satisfied: packaging>=20.0 in /Users/phanhieu/nmt-jupyter-project/.venv/lib/python3.10/site-packages (from transformers>=4.35.0->-r requirements.txt (line 7)) (25.0)\n",
      "Requirement already satisfied: pyyaml>=5.1 in /Users/phanhieu/nmt-jupyter-project/.venv/lib/python3.10/site-packages (from transformers>=4.35.0->-r requirements.txt (line 7)) (6.0.2)\n",
      "Requirement already satisfied: regex!=2019.12.17 in /Users/phanhieu/nmt-jupyter-project/.venv/lib/python3.10/site-packages (from transformers>=4.35.0->-r requirements.txt (line 7)) (2024.11.6)\n",
      "Requirement already satisfied: requests in /Users/phanhieu/nmt-jupyter-project/.venv/lib/python3.10/site-packages (from transformers>=4.35.0->-r requirements.txt (line 7)) (2.32.3)\n",
      "Requirement already satisfied: tokenizers<0.22,>=0.21 in /Users/phanhieu/nmt-jupyter-project/.venv/lib/python3.10/site-packages (from transformers>=4.35.0->-r requirements.txt (line 7)) (0.21.1)\n",
      "Requirement already satisfied: safetensors>=0.4.3 in /Users/phanhieu/nmt-jupyter-project/.venv/lib/python3.10/site-packages (from transformers>=4.35.0->-r requirements.txt (line 7)) (0.5.3)\n",
      "Requirement already satisfied: tqdm>=4.27 in /Users/phanhieu/nmt-jupyter-project/.venv/lib/python3.10/site-packages (from transformers>=4.35.0->-r requirements.txt (line 7)) (4.67.1)\n",
      "Collecting scipy>=1.11.4 (from scikit-image->-r requirements.txt (line 12))\n",
      "  Downloading scipy-1.15.3-cp310-cp310-macosx_14_0_arm64.whl.metadata (61 kB)\n",
      "Collecting imageio!=2.35.0,>=2.33 (from scikit-image->-r requirements.txt (line 12))\n",
      "  Downloading imageio-2.37.0-py3-none-any.whl.metadata (5.2 kB)\n",
      "Collecting tifffile>=2022.8.12 (from scikit-image->-r requirements.txt (line 12))\n",
      "  Downloading tifffile-2025.5.10-py3-none-any.whl.metadata (31 kB)\n",
      "Collecting lazy-loader>=0.4 (from scikit-image->-r requirements.txt (line 12))\n",
      "  Downloading lazy_loader-0.4-py3-none-any.whl.metadata (7.6 kB)\n",
      "Requirement already satisfied: contourpy>=1.0.1 in /Users/phanhieu/nmt-jupyter-project/.venv/lib/python3.10/site-packages (from matplotlib->-r requirements.txt (line 15)) (1.3.2)\n",
      "Requirement already satisfied: cycler>=0.10 in /Users/phanhieu/nmt-jupyter-project/.venv/lib/python3.10/site-packages (from matplotlib->-r requirements.txt (line 15)) (0.12.1)\n",
      "Requirement already satisfied: fonttools>=4.22.0 in /Users/phanhieu/nmt-jupyter-project/.venv/lib/python3.10/site-packages (from matplotlib->-r requirements.txt (line 15)) (4.58.0)\n",
      "Requirement already satisfied: kiwisolver>=1.3.1 in /Users/phanhieu/nmt-jupyter-project/.venv/lib/python3.10/site-packages (from matplotlib->-r requirements.txt (line 15)) (1.4.8)\n",
      "Requirement already satisfied: pyparsing>=2.3.1 in /Users/phanhieu/nmt-jupyter-project/.venv/lib/python3.10/site-packages (from matplotlib->-r requirements.txt (line 15)) (3.2.3)\n",
      "Requirement already satisfied: python-dateutil>=2.7 in /Users/phanhieu/nmt-jupyter-project/.venv/lib/python3.10/site-packages (from matplotlib->-r requirements.txt (line 15)) (2.9.0.post0)\n",
      "Requirement already satisfied: joblib>=1.2.0 in /Users/phanhieu/nmt-jupyter-project/.venv/lib/python3.10/site-packages (from scikit-learn->-r requirements.txt (line 18)) (1.5.0)\n",
      "Collecting threadpoolctl>=3.1.0 (from scikit-learn->-r requirements.txt (line 18))\n",
      "  Downloading threadpoolctl-3.6.0-py3-none-any.whl.metadata (13 kB)\n",
      "Requirement already satisfied: pytz>=2020.1 in /Users/phanhieu/nmt-jupyter-project/.venv/lib/python3.10/site-packages (from pandas->-r requirements.txt (line 19)) (2025.2)\n",
      "Requirement already satisfied: tzdata>=2022.7 in /Users/phanhieu/nmt-jupyter-project/.venv/lib/python3.10/site-packages (from pandas->-r requirements.txt (line 19)) (2025.2)\n",
      "Collecting ttach (from grad-cam>=1.4.6->-r requirements.txt (line 22))\n",
      "  Downloading ttach-0.0.3-py3-none-any.whl.metadata (5.2 kB)\n",
      "Requirement already satisfied: async-lru>=1.0.0 in /Users/phanhieu/nmt-jupyter-project/.venv/lib/python3.10/site-packages (from jupyterlab->-r requirements.txt (line 25)) (2.0.5)\n",
      "Requirement already satisfied: httpx>=0.25.0 in /Users/phanhieu/nmt-jupyter-project/.venv/lib/python3.10/site-packages (from jupyterlab->-r requirements.txt (line 25)) (0.28.1)\n",
      "Requirement already satisfied: ipykernel>=6.5.0 in /Users/phanhieu/nmt-jupyter-project/.venv/lib/python3.10/site-packages (from jupyterlab->-r requirements.txt (line 25)) (6.29.5)\n",
      "Requirement already satisfied: jupyter-core in /Users/phanhieu/nmt-jupyter-project/.venv/lib/python3.10/site-packages (from jupyterlab->-r requirements.txt (line 25)) (5.7.2)\n",
      "Requirement already satisfied: jupyter-lsp>=2.0.0 in /Users/phanhieu/nmt-jupyter-project/.venv/lib/python3.10/site-packages (from jupyterlab->-r requirements.txt (line 25)) (2.2.5)\n",
      "Requirement already satisfied: jupyter-server<3,>=2.4.0 in /Users/phanhieu/nmt-jupyter-project/.venv/lib/python3.10/site-packages (from jupyterlab->-r requirements.txt (line 25)) (2.16.0)\n",
      "Requirement already satisfied: jupyterlab-server<3,>=2.27.1 in /Users/phanhieu/nmt-jupyter-project/.venv/lib/python3.10/site-packages (from jupyterlab->-r requirements.txt (line 25)) (2.27.3)\n",
      "Requirement already satisfied: notebook-shim>=0.2 in /Users/phanhieu/nmt-jupyter-project/.venv/lib/python3.10/site-packages (from jupyterlab->-r requirements.txt (line 25)) (0.2.4)\n",
      "Requirement already satisfied: setuptools>=41.1.0 in /Users/phanhieu/nmt-jupyter-project/.venv/lib/python3.10/site-packages (from jupyterlab->-r requirements.txt (line 25)) (78.1.0)\n",
      "Requirement already satisfied: tomli>=1.2.2 in /Users/phanhieu/nmt-jupyter-project/.venv/lib/python3.10/site-packages (from jupyterlab->-r requirements.txt (line 25)) (2.2.1)\n",
      "Requirement already satisfied: tornado>=6.2.0 in /Users/phanhieu/nmt-jupyter-project/.venv/lib/python3.10/site-packages (from jupyterlab->-r requirements.txt (line 25)) (6.5)\n",
      "Requirement already satisfied: traitlets in /Users/phanhieu/nmt-jupyter-project/.venv/lib/python3.10/site-packages (from jupyterlab->-r requirements.txt (line 25)) (5.14.3)\n",
      "Requirement already satisfied: anyio>=3.1.0 in /Users/phanhieu/nmt-jupyter-project/.venv/lib/python3.10/site-packages (from jupyter-server<3,>=2.4.0->jupyterlab->-r requirements.txt (line 25)) (4.9.0)\n",
      "Requirement already satisfied: argon2-cffi>=21.1 in /Users/phanhieu/nmt-jupyter-project/.venv/lib/python3.10/site-packages (from jupyter-server<3,>=2.4.0->jupyterlab->-r requirements.txt (line 25)) (23.1.0)\n",
      "Requirement already satisfied: jupyter-client>=7.4.4 in /Users/phanhieu/nmt-jupyter-project/.venv/lib/python3.10/site-packages (from jupyter-server<3,>=2.4.0->jupyterlab->-r requirements.txt (line 25)) (8.6.3)\n",
      "Requirement already satisfied: jupyter-events>=0.11.0 in /Users/phanhieu/nmt-jupyter-project/.venv/lib/python3.10/site-packages (from jupyter-server<3,>=2.4.0->jupyterlab->-r requirements.txt (line 25)) (0.12.0)\n",
      "Requirement already satisfied: jupyter-server-terminals>=0.4.4 in /Users/phanhieu/nmt-jupyter-project/.venv/lib/python3.10/site-packages (from jupyter-server<3,>=2.4.0->jupyterlab->-r requirements.txt (line 25)) (0.5.3)\n",
      "Requirement already satisfied: nbconvert>=6.4.4 in /Users/phanhieu/nmt-jupyter-project/.venv/lib/python3.10/site-packages (from jupyter-server<3,>=2.4.0->jupyterlab->-r requirements.txt (line 25)) (7.16.6)\n",
      "Requirement already satisfied: nbformat>=5.3.0 in /Users/phanhieu/nmt-jupyter-project/.venv/lib/python3.10/site-packages (from jupyter-server<3,>=2.4.0->jupyterlab->-r requirements.txt (line 25)) (5.10.4)\n",
      "Requirement already satisfied: overrides>=5.0 in /Users/phanhieu/nmt-jupyter-project/.venv/lib/python3.10/site-packages (from jupyter-server<3,>=2.4.0->jupyterlab->-r requirements.txt (line 25)) (7.7.0)\n",
      "Requirement already satisfied: prometheus-client>=0.9 in /Users/phanhieu/nmt-jupyter-project/.venv/lib/python3.10/site-packages (from jupyter-server<3,>=2.4.0->jupyterlab->-r requirements.txt (line 25)) (0.22.0)\n",
      "Requirement already satisfied: pyzmq>=24 in /Users/phanhieu/nmt-jupyter-project/.venv/lib/python3.10/site-packages (from jupyter-server<3,>=2.4.0->jupyterlab->-r requirements.txt (line 25)) (26.4.0)\n",
      "Requirement already satisfied: send2trash>=1.8.2 in /Users/phanhieu/nmt-jupyter-project/.venv/lib/python3.10/site-packages (from jupyter-server<3,>=2.4.0->jupyterlab->-r requirements.txt (line 25)) (1.8.3)\n",
      "Requirement already satisfied: terminado>=0.8.3 in /Users/phanhieu/nmt-jupyter-project/.venv/lib/python3.10/site-packages (from jupyter-server<3,>=2.4.0->jupyterlab->-r requirements.txt (line 25)) (0.18.1)\n",
      "Requirement already satisfied: websocket-client>=1.7 in /Users/phanhieu/nmt-jupyter-project/.venv/lib/python3.10/site-packages (from jupyter-server<3,>=2.4.0->jupyterlab->-r requirements.txt (line 25)) (1.8.0)\n",
      "Requirement already satisfied: babel>=2.10 in /Users/phanhieu/nmt-jupyter-project/.venv/lib/python3.10/site-packages (from jupyterlab-server<3,>=2.27.1->jupyterlab->-r requirements.txt (line 25)) (2.17.0)\n",
      "Requirement already satisfied: json5>=0.9.0 in /Users/phanhieu/nmt-jupyter-project/.venv/lib/python3.10/site-packages (from jupyterlab-server<3,>=2.27.1->jupyterlab->-r requirements.txt (line 25)) (0.12.0)\n",
      "Requirement already satisfied: jsonschema>=4.18.0 in /Users/phanhieu/nmt-jupyter-project/.venv/lib/python3.10/site-packages (from jupyterlab-server<3,>=2.27.1->jupyterlab->-r requirements.txt (line 25)) (4.23.0)\n",
      "Requirement already satisfied: absl-py>=0.4 in /Users/phanhieu/nmt-jupyter-project/.venv/lib/python3.10/site-packages (from tensorboard->-r requirements.txt (line 28)) (2.2.2)\n",
      "Requirement already satisfied: grpcio>=1.48.2 in /Users/phanhieu/nmt-jupyter-project/.venv/lib/python3.10/site-packages (from tensorboard->-r requirements.txt (line 28)) (1.71.0)\n",
      "Requirement already satisfied: google-auth<3,>=1.6.3 in /Users/phanhieu/nmt-jupyter-project/.venv/lib/python3.10/site-packages (from tensorboard->-r requirements.txt (line 28)) (2.40.1)\n",
      "Requirement already satisfied: google-auth-oauthlib<2,>=0.5 in /Users/phanhieu/nmt-jupyter-project/.venv/lib/python3.10/site-packages (from tensorboard->-r requirements.txt (line 28)) (1.2.2)\n",
      "Requirement already satisfied: markdown>=2.6.8 in /Users/phanhieu/nmt-jupyter-project/.venv/lib/python3.10/site-packages (from tensorboard->-r requirements.txt (line 28)) (3.8)\n",
      "Requirement already satisfied: protobuf!=4.24.0,>=3.19.6 in /Users/phanhieu/nmt-jupyter-project/.venv/lib/python3.10/site-packages (from tensorboard->-r requirements.txt (line 28)) (4.25.7)\n",
      "Requirement already satisfied: six>1.9 in /Users/phanhieu/nmt-jupyter-project/.venv/lib/python3.10/site-packages (from tensorboard->-r requirements.txt (line 28)) (1.17.0)\n",
      "Requirement already satisfied: tensorboard-data-server<0.8.0,>=0.7.0 in /Users/phanhieu/nmt-jupyter-project/.venv/lib/python3.10/site-packages (from tensorboard->-r requirements.txt (line 28)) (0.7.2)\n",
      "Requirement already satisfied: werkzeug>=1.0.1 in /Users/phanhieu/nmt-jupyter-project/.venv/lib/python3.10/site-packages (from tensorboard->-r requirements.txt (line 28)) (3.1.3)\n",
      "Requirement already satisfied: cachetools<6.0,>=2.0.0 in /Users/phanhieu/nmt-jupyter-project/.venv/lib/python3.10/site-packages (from google-auth<3,>=1.6.3->tensorboard->-r requirements.txt (line 28)) (5.5.2)\n",
      "Requirement already satisfied: pyasn1-modules>=0.2.1 in /Users/phanhieu/nmt-jupyter-project/.venv/lib/python3.10/site-packages (from google-auth<3,>=1.6.3->tensorboard->-r requirements.txt (line 28)) (0.4.2)\n",
      "Requirement already satisfied: rsa<5,>=3.1.4 in /Users/phanhieu/nmt-jupyter-project/.venv/lib/python3.10/site-packages (from google-auth<3,>=1.6.3->tensorboard->-r requirements.txt (line 28)) (4.9.1)\n",
      "Requirement already satisfied: requests-oauthlib>=0.7.0 in /Users/phanhieu/nmt-jupyter-project/.venv/lib/python3.10/site-packages (from google-auth-oauthlib<2,>=0.5->tensorboard->-r requirements.txt (line 28)) (2.0.0)\n",
      "Requirement already satisfied: charset-normalizer<4,>=2 in /Users/phanhieu/nmt-jupyter-project/.venv/lib/python3.10/site-packages (from requests->transformers>=4.35.0->-r requirements.txt (line 7)) (3.4.2)\n",
      "Requirement already satisfied: idna<4,>=2.5 in /Users/phanhieu/nmt-jupyter-project/.venv/lib/python3.10/site-packages (from requests->transformers>=4.35.0->-r requirements.txt (line 7)) (3.10)\n",
      "Requirement already satisfied: urllib3<3,>=1.21.1 in /Users/phanhieu/nmt-jupyter-project/.venv/lib/python3.10/site-packages (from requests->transformers>=4.35.0->-r requirements.txt (line 7)) (2.4.0)\n",
      "Requirement already satisfied: certifi>=2017.4.17 in /Users/phanhieu/nmt-jupyter-project/.venv/lib/python3.10/site-packages (from requests->transformers>=4.35.0->-r requirements.txt (line 7)) (2025.4.26)\n",
      "Requirement already satisfied: pyasn1>=0.1.3 in /Users/phanhieu/nmt-jupyter-project/.venv/lib/python3.10/site-packages (from rsa<5,>=3.1.4->google-auth<3,>=1.6.3->tensorboard->-r requirements.txt (line 28)) (0.6.1)\n",
      "Requirement already satisfied: exceptiongroup>=1.0.2 in /Users/phanhieu/nmt-jupyter-project/.venv/lib/python3.10/site-packages (from anyio>=3.1.0->jupyter-server<3,>=2.4.0->jupyterlab->-r requirements.txt (line 25)) (1.3.0)\n",
      "Requirement already satisfied: sniffio>=1.1 in /Users/phanhieu/nmt-jupyter-project/.venv/lib/python3.10/site-packages (from anyio>=3.1.0->jupyter-server<3,>=2.4.0->jupyterlab->-r requirements.txt (line 25)) (1.3.1)\n",
      "Requirement already satisfied: argon2-cffi-bindings in /Users/phanhieu/nmt-jupyter-project/.venv/lib/python3.10/site-packages (from argon2-cffi>=21.1->jupyter-server<3,>=2.4.0->jupyterlab->-r requirements.txt (line 25)) (21.2.0)\n",
      "Requirement already satisfied: httpcore==1.* in /Users/phanhieu/nmt-jupyter-project/.venv/lib/python3.10/site-packages (from httpx>=0.25.0->jupyterlab->-r requirements.txt (line 25)) (1.0.9)\n",
      "Requirement already satisfied: h11>=0.16 in /Users/phanhieu/nmt-jupyter-project/.venv/lib/python3.10/site-packages (from httpcore==1.*->httpx>=0.25.0->jupyterlab->-r requirements.txt (line 25)) (0.16.0)\n",
      "Requirement already satisfied: appnope in /Users/phanhieu/nmt-jupyter-project/.venv/lib/python3.10/site-packages (from ipykernel>=6.5.0->jupyterlab->-r requirements.txt (line 25)) (0.1.4)\n",
      "Requirement already satisfied: comm>=0.1.1 in /Users/phanhieu/nmt-jupyter-project/.venv/lib/python3.10/site-packages (from ipykernel>=6.5.0->jupyterlab->-r requirements.txt (line 25)) (0.2.2)\n",
      "Requirement already satisfied: debugpy>=1.6.5 in /Users/phanhieu/nmt-jupyter-project/.venv/lib/python3.10/site-packages (from ipykernel>=6.5.0->jupyterlab->-r requirements.txt (line 25)) (1.8.14)\n",
      "Requirement already satisfied: ipython>=7.23.1 in /Users/phanhieu/nmt-jupyter-project/.venv/lib/python3.10/site-packages (from ipykernel>=6.5.0->jupyterlab->-r requirements.txt (line 25)) (8.36.0)\n",
      "Requirement already satisfied: matplotlib-inline>=0.1 in /Users/phanhieu/nmt-jupyter-project/.venv/lib/python3.10/site-packages (from ipykernel>=6.5.0->jupyterlab->-r requirements.txt (line 25)) (0.1.7)\n",
      "Requirement already satisfied: nest-asyncio in /Users/phanhieu/nmt-jupyter-project/.venv/lib/python3.10/site-packages (from ipykernel>=6.5.0->jupyterlab->-r requirements.txt (line 25)) (1.6.0)\n",
      "Requirement already satisfied: psutil in /Users/phanhieu/nmt-jupyter-project/.venv/lib/python3.10/site-packages (from ipykernel>=6.5.0->jupyterlab->-r requirements.txt (line 25)) (7.0.0)\n",
      "Requirement already satisfied: decorator in /Users/phanhieu/nmt-jupyter-project/.venv/lib/python3.10/site-packages (from ipython>=7.23.1->ipykernel>=6.5.0->jupyterlab->-r requirements.txt (line 25)) (5.2.1)\n",
      "Requirement already satisfied: jedi>=0.16 in /Users/phanhieu/nmt-jupyter-project/.venv/lib/python3.10/site-packages (from ipython>=7.23.1->ipykernel>=6.5.0->jupyterlab->-r requirements.txt (line 25)) (0.19.2)\n",
      "Requirement already satisfied: pexpect>4.3 in /Users/phanhieu/nmt-jupyter-project/.venv/lib/python3.10/site-packages (from ipython>=7.23.1->ipykernel>=6.5.0->jupyterlab->-r requirements.txt (line 25)) (4.9.0)\n",
      "Requirement already satisfied: prompt_toolkit<3.1.0,>=3.0.41 in /Users/phanhieu/nmt-jupyter-project/.venv/lib/python3.10/site-packages (from ipython>=7.23.1->ipykernel>=6.5.0->jupyterlab->-r requirements.txt (line 25)) (3.0.51)\n",
      "Requirement already satisfied: pygments>=2.4.0 in /Users/phanhieu/nmt-jupyter-project/.venv/lib/python3.10/site-packages (from ipython>=7.23.1->ipykernel>=6.5.0->jupyterlab->-r requirements.txt (line 25)) (2.19.1)\n",
      "Requirement already satisfied: stack_data in /Users/phanhieu/nmt-jupyter-project/.venv/lib/python3.10/site-packages (from ipython>=7.23.1->ipykernel>=6.5.0->jupyterlab->-r requirements.txt (line 25)) (0.6.3)\n",
      "Requirement already satisfied: wcwidth in /Users/phanhieu/nmt-jupyter-project/.venv/lib/python3.10/site-packages (from prompt_toolkit<3.1.0,>=3.0.41->ipython>=7.23.1->ipykernel>=6.5.0->jupyterlab->-r requirements.txt (line 25)) (0.2.13)\n",
      "Requirement already satisfied: parso<0.9.0,>=0.8.4 in /Users/phanhieu/nmt-jupyter-project/.venv/lib/python3.10/site-packages (from jedi>=0.16->ipython>=7.23.1->ipykernel>=6.5.0->jupyterlab->-r requirements.txt (line 25)) (0.8.4)\n",
      "Requirement already satisfied: MarkupSafe>=2.0 in /Users/phanhieu/nmt-jupyter-project/.venv/lib/python3.10/site-packages (from jinja2->torch>=2.0.0->-r requirements.txt (line 2)) (3.0.2)\n",
      "Requirement already satisfied: attrs>=22.2.0 in /Users/phanhieu/nmt-jupyter-project/.venv/lib/python3.10/site-packages (from jsonschema>=4.18.0->jupyterlab-server<3,>=2.27.1->jupyterlab->-r requirements.txt (line 25)) (25.3.0)\n",
      "Requirement already satisfied: jsonschema-specifications>=2023.03.6 in /Users/phanhieu/nmt-jupyter-project/.venv/lib/python3.10/site-packages (from jsonschema>=4.18.0->jupyterlab-server<3,>=2.27.1->jupyterlab->-r requirements.txt (line 25)) (2025.4.1)\n",
      "Requirement already satisfied: referencing>=0.28.4 in /Users/phanhieu/nmt-jupyter-project/.venv/lib/python3.10/site-packages (from jsonschema>=4.18.0->jupyterlab-server<3,>=2.27.1->jupyterlab->-r requirements.txt (line 25)) (0.36.2)\n",
      "Requirement already satisfied: rpds-py>=0.7.1 in /Users/phanhieu/nmt-jupyter-project/.venv/lib/python3.10/site-packages (from jsonschema>=4.18.0->jupyterlab-server<3,>=2.27.1->jupyterlab->-r requirements.txt (line 25)) (0.25.0)\n",
      "Requirement already satisfied: platformdirs>=2.5 in /Users/phanhieu/nmt-jupyter-project/.venv/lib/python3.10/site-packages (from jupyter-core->jupyterlab->-r requirements.txt (line 25)) (4.3.8)\n",
      "Requirement already satisfied: python-json-logger>=2.0.4 in /Users/phanhieu/nmt-jupyter-project/.venv/lib/python3.10/site-packages (from jupyter-events>=0.11.0->jupyter-server<3,>=2.4.0->jupyterlab->-r requirements.txt (line 25)) (3.3.0)\n",
      "Requirement already satisfied: rfc3339-validator in /Users/phanhieu/nmt-jupyter-project/.venv/lib/python3.10/site-packages (from jupyter-events>=0.11.0->jupyter-server<3,>=2.4.0->jupyterlab->-r requirements.txt (line 25)) (0.1.4)\n",
      "Requirement already satisfied: rfc3986-validator>=0.1.1 in /Users/phanhieu/nmt-jupyter-project/.venv/lib/python3.10/site-packages (from jupyter-events>=0.11.0->jupyter-server<3,>=2.4.0->jupyterlab->-r requirements.txt (line 25)) (0.1.1)\n",
      "Requirement already satisfied: fqdn in /Users/phanhieu/nmt-jupyter-project/.venv/lib/python3.10/site-packages (from jsonschema[format-nongpl]>=4.18.0->jupyter-events>=0.11.0->jupyter-server<3,>=2.4.0->jupyterlab->-r requirements.txt (line 25)) (1.5.1)\n",
      "Requirement already satisfied: isoduration in /Users/phanhieu/nmt-jupyter-project/.venv/lib/python3.10/site-packages (from jsonschema[format-nongpl]>=4.18.0->jupyter-events>=0.11.0->jupyter-server<3,>=2.4.0->jupyterlab->-r requirements.txt (line 25)) (20.11.0)\n",
      "Requirement already satisfied: jsonpointer>1.13 in /Users/phanhieu/nmt-jupyter-project/.venv/lib/python3.10/site-packages (from jsonschema[format-nongpl]>=4.18.0->jupyter-events>=0.11.0->jupyter-server<3,>=2.4.0->jupyterlab->-r requirements.txt (line 25)) (3.0.0)\n",
      "Requirement already satisfied: uri-template in /Users/phanhieu/nmt-jupyter-project/.venv/lib/python3.10/site-packages (from jsonschema[format-nongpl]>=4.18.0->jupyter-events>=0.11.0->jupyter-server<3,>=2.4.0->jupyterlab->-r requirements.txt (line 25)) (1.3.0)\n",
      "Requirement already satisfied: webcolors>=24.6.0 in /Users/phanhieu/nmt-jupyter-project/.venv/lib/python3.10/site-packages (from jsonschema[format-nongpl]>=4.18.0->jupyter-events>=0.11.0->jupyter-server<3,>=2.4.0->jupyterlab->-r requirements.txt (line 25)) (24.11.1)\n",
      "Requirement already satisfied: beautifulsoup4 in /Users/phanhieu/nmt-jupyter-project/.venv/lib/python3.10/site-packages (from nbconvert>=6.4.4->jupyter-server<3,>=2.4.0->jupyterlab->-r requirements.txt (line 25)) (4.13.4)\n",
      "Requirement already satisfied: bleach!=5.0.0 in /Users/phanhieu/nmt-jupyter-project/.venv/lib/python3.10/site-packages (from bleach[css]!=5.0.0->nbconvert>=6.4.4->jupyter-server<3,>=2.4.0->jupyterlab->-r requirements.txt (line 25)) (6.2.0)\n",
      "Requirement already satisfied: defusedxml in /Users/phanhieu/nmt-jupyter-project/.venv/lib/python3.10/site-packages (from nbconvert>=6.4.4->jupyter-server<3,>=2.4.0->jupyterlab->-r requirements.txt (line 25)) (0.7.1)\n",
      "Requirement already satisfied: jupyterlab-pygments in /Users/phanhieu/nmt-jupyter-project/.venv/lib/python3.10/site-packages (from nbconvert>=6.4.4->jupyter-server<3,>=2.4.0->jupyterlab->-r requirements.txt (line 25)) (0.3.0)\n",
      "Requirement already satisfied: mistune<4,>=2.0.3 in /Users/phanhieu/nmt-jupyter-project/.venv/lib/python3.10/site-packages (from nbconvert>=6.4.4->jupyter-server<3,>=2.4.0->jupyterlab->-r requirements.txt (line 25)) (3.1.3)\n",
      "Requirement already satisfied: nbclient>=0.5.0 in /Users/phanhieu/nmt-jupyter-project/.venv/lib/python3.10/site-packages (from nbconvert>=6.4.4->jupyter-server<3,>=2.4.0->jupyterlab->-r requirements.txt (line 25)) (0.10.2)\n",
      "Requirement already satisfied: pandocfilters>=1.4.1 in /Users/phanhieu/nmt-jupyter-project/.venv/lib/python3.10/site-packages (from nbconvert>=6.4.4->jupyter-server<3,>=2.4.0->jupyterlab->-r requirements.txt (line 25)) (1.5.1)\n",
      "Requirement already satisfied: webencodings in /Users/phanhieu/nmt-jupyter-project/.venv/lib/python3.10/site-packages (from bleach!=5.0.0->bleach[css]!=5.0.0->nbconvert>=6.4.4->jupyter-server<3,>=2.4.0->jupyterlab->-r requirements.txt (line 25)) (0.5.1)\n",
      "Requirement already satisfied: tinycss2<1.5,>=1.1.0 in /Users/phanhieu/nmt-jupyter-project/.venv/lib/python3.10/site-packages (from bleach[css]!=5.0.0->nbconvert>=6.4.4->jupyter-server<3,>=2.4.0->jupyterlab->-r requirements.txt (line 25)) (1.4.0)\n",
      "Requirement already satisfied: fastjsonschema>=2.15 in /Users/phanhieu/nmt-jupyter-project/.venv/lib/python3.10/site-packages (from nbformat>=5.3.0->jupyter-server<3,>=2.4.0->jupyterlab->-r requirements.txt (line 25)) (2.21.1)\n",
      "Requirement already satisfied: ptyprocess>=0.5 in /Users/phanhieu/nmt-jupyter-project/.venv/lib/python3.10/site-packages (from pexpect>4.3->ipython>=7.23.1->ipykernel>=6.5.0->jupyterlab->-r requirements.txt (line 25)) (0.7.0)\n",
      "Requirement already satisfied: oauthlib>=3.0.0 in /Users/phanhieu/nmt-jupyter-project/.venv/lib/python3.10/site-packages (from requests-oauthlib>=0.7.0->google-auth-oauthlib<2,>=0.5->tensorboard->-r requirements.txt (line 28)) (3.2.2)\n",
      "Requirement already satisfied: mpmath<1.4,>=1.1.0 in /Users/phanhieu/nmt-jupyter-project/.venv/lib/python3.10/site-packages (from sympy>=1.13.3->torch>=2.0.0->-r requirements.txt (line 2)) (1.3.0)\n",
      "Requirement already satisfied: cffi>=1.0.1 in /Users/phanhieu/nmt-jupyter-project/.venv/lib/python3.10/site-packages (from argon2-cffi-bindings->argon2-cffi>=21.1->jupyter-server<3,>=2.4.0->jupyterlab->-r requirements.txt (line 25)) (1.17.1)\n",
      "Requirement already satisfied: pycparser in /Users/phanhieu/nmt-jupyter-project/.venv/lib/python3.10/site-packages (from cffi>=1.0.1->argon2-cffi-bindings->argon2-cffi>=21.1->jupyter-server<3,>=2.4.0->jupyterlab->-r requirements.txt (line 25)) (2.22)\n",
      "Requirement already satisfied: soupsieve>1.2 in /Users/phanhieu/nmt-jupyter-project/.venv/lib/python3.10/site-packages (from beautifulsoup4->nbconvert>=6.4.4->jupyter-server<3,>=2.4.0->jupyterlab->-r requirements.txt (line 25)) (2.7)\n",
      "Requirement already satisfied: arrow>=0.15.0 in /Users/phanhieu/nmt-jupyter-project/.venv/lib/python3.10/site-packages (from isoduration->jsonschema[format-nongpl]>=4.18.0->jupyter-events>=0.11.0->jupyter-server<3,>=2.4.0->jupyterlab->-r requirements.txt (line 25)) (1.3.0)\n",
      "Requirement already satisfied: types-python-dateutil>=2.8.10 in /Users/phanhieu/nmt-jupyter-project/.venv/lib/python3.10/site-packages (from arrow>=0.15.0->isoduration->jsonschema[format-nongpl]>=4.18.0->jupyter-events>=0.11.0->jupyter-server<3,>=2.4.0->jupyterlab->-r requirements.txt (line 25)) (2.9.0.20250516)\n",
      "Requirement already satisfied: executing>=1.2.0 in /Users/phanhieu/nmt-jupyter-project/.venv/lib/python3.10/site-packages (from stack_data->ipython>=7.23.1->ipykernel>=6.5.0->jupyterlab->-r requirements.txt (line 25)) (2.2.0)\n",
      "Requirement already satisfied: asttokens>=2.1.0 in /Users/phanhieu/nmt-jupyter-project/.venv/lib/python3.10/site-packages (from stack_data->ipython>=7.23.1->ipykernel>=6.5.0->jupyterlab->-r requirements.txt (line 25)) (3.0.0)\n",
      "Requirement already satisfied: pure-eval in /Users/phanhieu/nmt-jupyter-project/.venv/lib/python3.10/site-packages (from stack_data->ipython>=7.23.1->ipykernel>=6.5.0->jupyterlab->-r requirements.txt (line 25)) (0.2.3)\n",
      "Downloading torchvision-0.22.1-cp310-cp310-macosx_11_0_arm64.whl (1.9 MB)\n",
      "\u001b[2K   \u001b[38;2;114;156;31m━━━━━━━━━━━━━━━━━━━━━━━━━━━━━━━━━━━━━━━━\u001b[0m \u001b[32m1.9/1.9 MB\u001b[0m \u001b[31m1.9 MB/s\u001b[0m eta \u001b[36m0:00:00\u001b[0m MB/s\u001b[0m eta \u001b[36m0:00:01\u001b[0m:01\u001b[0m\n",
      "\u001b[?25hDownloading torch-2.7.1-cp310-none-macosx_11_0_arm64.whl (68.6 MB)\n",
      "\u001b[2K   \u001b[38;2;114;156;31m━━━━━━━━━━━━━━━━━━━━━━━━━━━━━━━━━━━━━━━━\u001b[0m \u001b[32m68.6/68.6 MB\u001b[0m \u001b[31m14.6 MB/s\u001b[0m eta \u001b[36m0:00:00\u001b[0mm eta \u001b[36m0:00:01\u001b[0m0:01\u001b[0m:03\u001b[0m\n",
      "\u001b[?25hDownloading torchaudio-2.7.1-cp310-cp310-macosx_11_0_arm64.whl (1.8 MB)\n",
      "\u001b[2K   \u001b[38;2;114;156;31m━━━━━━━━━━━━━━━━━━━━━━━━━━━━━━━━━━━━━━━━\u001b[0m \u001b[32m1.8/1.8 MB\u001b[0m \u001b[31m22.2 MB/s\u001b[0m eta \u001b[36m0:00:00\u001b[0m\n",
      "\u001b[?25hDownloading timm-1.0.16-py3-none-any.whl (2.5 MB)\n",
      "\u001b[2K   \u001b[38;2;114;156;31m━━━━━━━━━━━━━━━━━━━━━━━━━━━━━━━━━━━━━━━━\u001b[0m \u001b[32m2.5/2.5 MB\u001b[0m \u001b[31m19.6 MB/s\u001b[0m eta \u001b[36m0:00:00\u001b[0m\n",
      "\u001b[?25hUsing cached opencv_python-4.11.0.86-cp37-abi3-macosx_13_0_arm64.whl (37.3 MB)\n",
      "Downloading scikit_image-0.25.2-cp310-cp310-macosx_12_0_arm64.whl (13.2 MB)\n",
      "\u001b[2K   \u001b[38;2;114;156;31m━━━━━━━━━━━━━━━━━━━━━━━━━━━━━━━━━━━━━━━━\u001b[0m \u001b[32m13.2/13.2 MB\u001b[0m \u001b[31m21.1 MB/s\u001b[0m eta \u001b[36m0:00:00\u001b[0mm eta \u001b[36m0:00:01\u001b[0m36m0:00:01\u001b[0m\n",
      "\u001b[?25hDownloading scikit_learn-1.7.0-cp310-cp310-macosx_12_0_arm64.whl (10.7 MB)\n",
      "\u001b[2K   \u001b[38;2;114;156;31m━━━━━━━━━━━━━━━━━━━━━━━━━━━━━━━━━━━━━━━━\u001b[0m \u001b[32m10.7/10.7 MB\u001b[0m \u001b[31m19.5 MB/s\u001b[0m eta \u001b[36m0:00:00\u001b[0mMB/s\u001b[0m eta \u001b[36m0:00:01\u001b[0m:01\u001b[0m\n",
      "\u001b[?25hDownloading imageio-2.37.0-py3-none-any.whl (315 kB)\n",
      "Downloading lazy_loader-0.4-py3-none-any.whl (12 kB)\n",
      "Downloading scipy-1.15.3-cp310-cp310-macosx_14_0_arm64.whl (22.4 MB)\n",
      "\u001b[2K   \u001b[38;2;114;156;31m━━━━━━━━━━━━━━━━━━━━━━━━━━━━━━━━━━━━━━━━\u001b[0m \u001b[32m22.4/22.4 MB\u001b[0m \u001b[31m22.1 MB/s\u001b[0m eta \u001b[36m0:00:00\u001b[0m MB/s\u001b[0m eta \u001b[36m0:00:01\u001b[0m:01\u001b[0m\n",
      "\u001b[?25hDownloading threadpoolctl-3.6.0-py3-none-any.whl (18 kB)\n",
      "Downloading tifffile-2025.5.10-py3-none-any.whl (226 kB)\n",
      "Downloading ttach-0.0.3-py3-none-any.whl (9.8 kB)\n",
      "Building wheels for collected packages: grad-cam\n",
      "  Building wheel for grad-cam (pyproject.toml) ... \u001b[?25ldone\n",
      "\u001b[?25h  Created wheel for grad-cam: filename=grad_cam-1.5.5-py3-none-any.whl size=44284 sha256=25b549cf36d3c873a6868a4ad972ec3e5cf97a2b80e01d0c006e77134375c618\n",
      "  Stored in directory: /Users/phanhieu/Library/Caches/pip/wheels/3d/b6/be/e13cccebb2aa8855f678b02ad449e803de1dfbe75853c34b3e\n",
      "Successfully built grad-cam\n",
      "Installing collected packages: ttach, tifffile, threadpoolctl, scipy, opencv-python, lazy-loader, imageio, torch, scikit-learn, scikit-image, torchvision, torchaudio, timm, grad-cam\n",
      "\u001b[2K  Attempting uninstall: torch━━━━━━━━━\u001b[0m\u001b[38;5;237m╺\u001b[0m\u001b[38;5;237m━━━━━━━━━━━━━━━━━━━━━━\u001b[0m \u001b[32m 6/14\u001b[0m [imageio]ython]oolctl]\n",
      "\u001b[2K    Found existing installation: torch 2.7.0;237m╺\u001b[0m\u001b[38;5;237m━━━━━━━━━━━━━━━━━━━━━━\u001b[0m \u001b[32m 6/14\u001b[0m [imageio]\n",
      "\u001b[2K    Uninstalling torch-2.7.0:━━━━━━━━━━━━\u001b[0m\u001b[38;5;237m╺\u001b[0m\u001b[38;5;237m━━━━━━━━━━━━━━━━━━━\u001b[0m \u001b[32m 7/14\u001b[0m [torch]\n",
      "\u001b[2K      Successfully uninstalled torch-2.7.0[0m\u001b[38;5;237m╺\u001b[0m\u001b[38;5;237m━━━━━━━━━━━━━━━━━━━\u001b[0m \u001b[32m 7/14\u001b[0m [torch]\n",
      "\u001b[2K   \u001b[38;2;114;156;31m━━━━━━━━━━━━━━━━━━━━━━━━━━━━━━━━━━━━━━━━\u001b[0m \u001b[32m14/14\u001b[0m [grad-cam]\u001b[0m \u001b[32m12/14\u001b[0m [timm]audio]hvision]]\n",
      "\u001b[1A\u001b[2KSuccessfully installed grad-cam-1.5.5 imageio-2.37.0 lazy-loader-0.4 opencv-python-4.11.0.86 scikit-image-0.25.2 scikit-learn-1.7.0 scipy-1.15.3 threadpoolctl-3.6.0 tifffile-2025.5.10 timm-1.0.16 torch-2.7.1 torchaudio-2.7.1 torchvision-0.22.1 ttach-0.0.3\n"
     ]
    }
   ],
   "source": [
    "!pip install -r requirements.txt"
   ]
  },
  {
   "cell_type": "markdown",
   "id": "8ada0c5c",
   "metadata": {},
   "source": [
    "Import dependencies"
   ]
  },
  {
   "cell_type": "code",
   "execution_count": 63,
   "id": "76663c13",
   "metadata": {},
   "outputs": [],
   "source": [
    "import torch\n",
    "import torch.nn as nn\n",
    "from torch.nn import functional as F\n",
    "import numpy as np\n",
    "import matplotlib.pyplot as plt\n",
    "from einops.layers.torch import Rearrange # type: ignore\n",
    "from torch import Tensor\n",
    "from einops import repeat #type:ignore"
   ]
  },
  {
   "cell_type": "markdown",
   "id": "5b62fb8f",
   "metadata": {},
   "source": [
    "Randomize a sample image"
   ]
  },
  {
   "cell_type": "code",
   "execution_count": 47,
   "id": "f5b412a4",
   "metadata": {},
   "outputs": [
    {
     "data": {
      "text/plain": [
       "<matplotlib.image.AxesImage at 0x16b7e7100>"
      ]
     },
     "execution_count": 47,
     "metadata": {},
     "output_type": "execute_result"
    },
    {
     "data": {
      "image/png": "[encoded data removed]",
      "text/plain": [
       "<Figure size 640x480 with 1 Axes>"
      ]
     },
     "metadata": {},
     "output_type": "display_data"
    }
   ],
   "source": [
    "a = torch.zeros(3, 224, 224)\n",
    "img = a.permute(1,2,0).numpy()\n",
    "plt.imshow(img)"
   ]
  },
  {
   "cell_type": "code",
   "execution_count": null,
   "id": "83b9114a",
   "metadata": {},
   "outputs": [],
   "source": [
    "class PatchEmbedding(nn.Module):\n",
    "    def __init__(self, in_channels = 3, patch_size = 8, emb_size = 128):\n",
    "        self.patch_size = patch_size\n",
    "        super().__init__()\n",
    "        self.projection = nn.Sequential(\n",
    "            # break-down the image in s1 x s2 patches and flat them\n",
    "            Rearrange('b c (h p1) (w p2) -> b (h w) (p1 p2 c)', p1=patch_size, p2=patch_size),\n",
    "            nn.Linear(patch_size * patch_size * in_channels, emb_size)\n",
    "        )\n",
    "\n",
    "    def forward(self, x: Tensor) -> Tensor:\n",
    "        x = self.projection(x)\n",
    "        return x\n"
   ]
  },
  {
   "cell_type": "markdown",
   "id": "57098fcf",
   "metadata": {},
   "source": [
    "Multi-head attention mechanism"
   ]
  },
  {
   "cell_type": "code",
   "execution_count": 29,
   "id": "7ed45f77",
   "metadata": {},
   "outputs": [],
   "source": [
    "class MHA(nn.Module):\n",
    "    def __init__(self, n_heads, d_model, dropout):\n",
    "        super().__init__()\n",
    "        self.n_heads = n_heads\n",
    "        self.att = torch.nn.MultiheadAttention(embed_dim=d_model,\n",
    "                                                     num_heads=n_heads,\n",
    "                                                     dropout = dropout)\n",
    "\n",
    "        self.q = nn.Linear(d_model, d_model)\n",
    "        self.k = nn.Linear(d_model, d_model)\n",
    "        self.v = nn.Linear(d_model, d_model)\n",
    "\n",
    "    def forward(self,x):\n",
    "        q = self.q(x)\n",
    "        k = self.k(x)\n",
    "        v = self.v(x)\n",
    "        out_att,out_att_w = self.att(x,x,x)\n",
    "        return out_att\n"
   ]
  },
  {
   "cell_type": "code",
   "execution_count": 41,
   "id": "cc202261",
   "metadata": {},
   "outputs": [],
   "source": [
    "class FeedForward(nn.Module):\n",
    "    def __init__(self, dim, h_dim,dropout = 0.):\n",
    "        super().__init__()\n",
    "        self.d = dim\n",
    "        self.h_dim = h_dim\n",
    "        self.dropout = dropout\n",
    "    def forward(self,x):\n",
    "        return nn.Sequential(\n",
    "            nn.Linear(self.d,self.h_dim),\n",
    "            nn.GELU(),\n",
    "            nn.Dropout(self.dropout),\n",
    "            nn.Linear(self.h_dim,self.d),\n",
    "            nn.Dropout(self.dropout))(x)\n",
    "        "
   ]
  },
  {
   "cell_type": "code",
   "execution_count": null,
   "id": "a88c8c6e",
   "metadata": {},
   "outputs": [],
   "source": [
    "class PreNorm(nn.Module):\n",
    "    def __init__(self, dim, fn) :\n",
    "        super().__init__()\n",
    "        self.norm = nn.LayerNorm(dim)\n",
    "        self.fn = fn\n",
    "    def forward(self,x):\n",
    "        return self.fn(self.norm(x))"
   ]
  },
  {
   "cell_type": "code",
   "execution_count": 51,
   "id": "d2e1eca7",
   "metadata": {},
   "outputs": [
    {
     "data": {
      "text/plain": [
       "torch.Size([1, 5, 128])"
      ]
     },
     "execution_count": 51,
     "metadata": {},
     "output_type": "execute_result"
    }
   ],
   "source": [
    "norm = PreNorm(128, MHA(4,128,0.))\n",
    "norm(torch.ones((1,5,128))).shape"
   ]
  },
  {
   "cell_type": "code",
   "execution_count": 52,
   "id": "29183990",
   "metadata": {},
   "outputs": [],
   "source": [
    "class ResidualAdd(nn.Module):\n",
    "    def __init__(self, fn):\n",
    "        super().__init__()\n",
    "        self.fn = fn\n",
    "\n",
    "    def forward(self,x):\n",
    "        return x + self.fn(x)"
   ]
  },
  {
   "cell_type": "code",
   "execution_count": 56,
   "id": "723db51d",
   "metadata": {},
   "outputs": [
    {
     "data": {
      "text/plain": [
       "torch.Size([1, 5, 128])"
      ]
     },
     "execution_count": 56,
     "metadata": {},
     "output_type": "execute_result"
    }
   ],
   "source": [
    "residual_att = ResidualAdd(MHA(4, 128, dropout=0.))\n",
    "residual_att(torch.ones((1, 5, 128))).shape"
   ]
  },
  {
   "cell_type": "markdown",
   "id": "25bf3061",
   "metadata": {},
   "source": [
    "Construct a Transformer Block"
   ]
  },
  {
   "cell_type": "code",
   "execution_count": null,
   "id": "4dd70a68",
   "metadata": {},
   "outputs": [],
   "source": [
    "\n",
    "class ViT(nn.Module):\n",
    "    def __init__(self, ch=3, img_size=144, patch_size=4, emb_dim=32,\n",
    "                n_layers=6, out_dim=37, dropout=0.1, heads=2):\n",
    "        super(ViT, self).__init__()\n",
    "\n",
    "        # Attributes\n",
    "        self.channels = ch\n",
    "        self.height = img_size\n",
    "        self.width = img_size\n",
    "        self.patch_size = patch_size\n",
    "        self.n_layers = n_layers\n",
    "\n",
    "        # Patching\n",
    "        self.patch_embedding = PatchEmbedding(in_channels=ch,\n",
    "                                              patch_size=patch_size,\n",
    "                                              emb_size=emb_dim)\n",
    "        # Learnable params\n",
    "        num_patches = (img_size // patch_size) ** 2\n",
    "        self.pos_embedding = nn.Parameter(\n",
    "            torch.randn(1, num_patches + 1, emb_dim))\n",
    "        self.cls_token = nn.Parameter(torch.rand(1, 1, emb_dim))\n",
    "\n",
    "        # Transformer Encoder\n",
    "        self.layers = nn.ModuleList([])\n",
    "        for _ in range(n_layers):\n",
    "            transformer_block = nn.Sequential(\n",
    "                ResidualAdd(PreNorm(emb_dim, MHA(n_heads= heads, d_model = emb_dim, dropout = dropout))),\n",
    "                ResidualAdd(PreNorm(emb_dim, FeedForward(emb_dim, emb_dim, dropout = dropout))))\n",
    "            self.layers.append(transformer_block)\n",
    "\n",
    "        # Classification head\n",
    "        self.head = nn.Sequential(nn.LayerNorm(emb_dim), nn.Linear(emb_dim, out_dim))\n",
    "\n",
    "\n",
    "    def forward(self, img):\n",
    "        # Get patch embedding vectors\n",
    "        x = self.patch_embedding(img)\n",
    "        b, n, _ = x.shape\n",
    "\n",
    "        # Add cls token to inputs\n",
    "        cls_tokens = repeat(self.cls_token, '1 1 d -> b 1 d', b = b)\n",
    "        x = torch.cat([cls_tokens, x], dim=1)\n",
    "        x += self.pos_embedding[:, :(n + 1)]\n",
    "\n",
    "        # Transformer layers\n",
    "        for i in range(self.n_layers):\n",
    "            x = self.layers[i](x)\n",
    "\n",
    "        # Output based on classification token\n",
    "        return self.head(x[:, 0, :])\n",
    "\n"
   ]
  }
 ],
 "metadata": {
  "kernelspec": {
   "display_name": "Python (NMT)",
   "language": "python",
   "name": "nmt-env"
  },
  "language_info": {
   "codemirror_mode": {
    "name": "ipython",
    "version": 3
   },
   "file_extension": ".py",
   "mimetype": "text/x-python",
   "name": "python",
   "nbconvert_exporter": "python",
   "pygments_lexer": "ipython3",
   "version": "3.10.17"
  }
 },
 "nbformat": 4,
 "nbformat_minor": 5
}
